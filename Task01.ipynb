{
 "cells": [
  {
   "cell_type": "code",
   "execution_count": 1,
   "id": "f945c5e5",
   "metadata": {},
   "outputs": [],
   "source": [
    "import pandas as pd\n",
    "import seaborn as sns\n",
    "from matplotlib import pyplot as plt\n",
    "from sklearn.preprocessing import LabelEncoder"
   ]
  },
  {
   "cell_type": "code",
   "execution_count": 2,
   "id": "f6c69fb6",
   "metadata": {},
   "outputs": [],
   "source": [
    "df = pd.read_excel(\"Asthama.xlsx\")"
   ]
  },
  {
   "cell_type": "code",
   "execution_count": 3,
   "id": "c594a936",
   "metadata": {},
   "outputs": [
    {
     "data": {
      "text/plain": [
       "(1499, 17)"
      ]
     },
     "execution_count": 3,
     "metadata": {},
     "output_type": "execute_result"
    }
   ],
   "source": [
    "df.shape"
   ]
  },
  {
   "cell_type": "code",
   "execution_count": 4,
   "id": "e69a2d74",
   "metadata": {},
   "outputs": [
    {
     "data": {
      "text/html": [
       "<div>\n",
       "<style scoped>\n",
       "    .dataframe tbody tr th:only-of-type {\n",
       "        vertical-align: middle;\n",
       "    }\n",
       "\n",
       "    .dataframe tbody tr th {\n",
       "        vertical-align: top;\n",
       "    }\n",
       "\n",
       "    .dataframe thead th {\n",
       "        text-align: right;\n",
       "    }\n",
       "</style>\n",
       "<table border=\"1\" class=\"dataframe\">\n",
       "  <thead>\n",
       "    <tr style=\"text-align: right;\">\n",
       "      <th></th>\n",
       "      <th>Patient_ID</th>\n",
       "      <th>Age</th>\n",
       "      <th>Gender</th>\n",
       "      <th>BMI</th>\n",
       "      <th>Smoking_Status</th>\n",
       "      <th>Family_History</th>\n",
       "      <th>Allergies</th>\n",
       "      <th>Air_Pollution_Level</th>\n",
       "      <th>Physical_Activity_Level</th>\n",
       "      <th>Occupation_Type</th>\n",
       "      <th>Comorbidities</th>\n",
       "      <th>Medication_Adherence</th>\n",
       "      <th>Number_of_ER_Visits</th>\n",
       "      <th>Peak_Expiratory_Flow</th>\n",
       "      <th>FeNO_Level</th>\n",
       "      <th>Has_Asthma</th>\n",
       "      <th>Asthma_Control_Level</th>\n",
       "    </tr>\n",
       "  </thead>\n",
       "  <tbody>\n",
       "    <tr>\n",
       "      <th>0</th>\n",
       "      <td>ASTH100000</td>\n",
       "      <td>52</td>\n",
       "      <td>Female</td>\n",
       "      <td>27.6</td>\n",
       "      <td>Former</td>\n",
       "      <td>1</td>\n",
       "      <td>NaN</td>\n",
       "      <td>Moderate</td>\n",
       "      <td>Sedentary</td>\n",
       "      <td>Outdoor</td>\n",
       "      <td>Diabetes</td>\n",
       "      <td>0.38</td>\n",
       "      <td>0</td>\n",
       "      <td>421.0</td>\n",
       "      <td>46.0</td>\n",
       "      <td>0</td>\n",
       "      <td>NaN</td>\n",
       "    </tr>\n",
       "    <tr>\n",
       "      <th>1</th>\n",
       "      <td>ASTH100001</td>\n",
       "      <td>15</td>\n",
       "      <td>Male</td>\n",
       "      <td>24.6</td>\n",
       "      <td>Former</td>\n",
       "      <td>0</td>\n",
       "      <td>Dust</td>\n",
       "      <td>Low</td>\n",
       "      <td>Moderate</td>\n",
       "      <td>Indoor</td>\n",
       "      <td>Both</td>\n",
       "      <td>0.60</td>\n",
       "      <td>2</td>\n",
       "      <td>297.6</td>\n",
       "      <td>22.9</td>\n",
       "      <td>0</td>\n",
       "      <td>NaN</td>\n",
       "    </tr>\n",
       "    <tr>\n",
       "      <th>2</th>\n",
       "      <td>ASTH100002</td>\n",
       "      <td>72</td>\n",
       "      <td>Female</td>\n",
       "      <td>17.6</td>\n",
       "      <td>Never</td>\n",
       "      <td>0</td>\n",
       "      <td>NaN</td>\n",
       "      <td>Moderate</td>\n",
       "      <td>Moderate</td>\n",
       "      <td>Indoor</td>\n",
       "      <td>NaN</td>\n",
       "      <td>0.38</td>\n",
       "      <td>0</td>\n",
       "      <td>303.3</td>\n",
       "      <td>15.3</td>\n",
       "      <td>0</td>\n",
       "      <td>NaN</td>\n",
       "    </tr>\n",
       "    <tr>\n",
       "      <th>3</th>\n",
       "      <td>ASTH100003</td>\n",
       "      <td>61</td>\n",
       "      <td>Male</td>\n",
       "      <td>16.8</td>\n",
       "      <td>Never</td>\n",
       "      <td>0</td>\n",
       "      <td>Multiple</td>\n",
       "      <td>High</td>\n",
       "      <td>Sedentary</td>\n",
       "      <td>Outdoor</td>\n",
       "      <td>Both</td>\n",
       "      <td>0.60</td>\n",
       "      <td>1</td>\n",
       "      <td>438.0</td>\n",
       "      <td>40.1</td>\n",
       "      <td>1</td>\n",
       "      <td>Poorly Controlled</td>\n",
       "    </tr>\n",
       "    <tr>\n",
       "      <th>4</th>\n",
       "      <td>ASTH100004</td>\n",
       "      <td>21</td>\n",
       "      <td>Male</td>\n",
       "      <td>30.2</td>\n",
       "      <td>Never</td>\n",
       "      <td>0</td>\n",
       "      <td>NaN</td>\n",
       "      <td>Moderate</td>\n",
       "      <td>Active</td>\n",
       "      <td>Indoor</td>\n",
       "      <td>NaN</td>\n",
       "      <td>0.82</td>\n",
       "      <td>3</td>\n",
       "      <td>535.0</td>\n",
       "      <td>27.7</td>\n",
       "      <td>0</td>\n",
       "      <td>NaN</td>\n",
       "    </tr>\n",
       "  </tbody>\n",
       "</table>\n",
       "</div>"
      ],
      "text/plain": [
       "   Patient_ID  Age  Gender   BMI Smoking_Status  Family_History Allergies  \\\n",
       "0  ASTH100000   52  Female  27.6         Former               1       NaN   \n",
       "1  ASTH100001   15    Male  24.6         Former               0      Dust   \n",
       "2  ASTH100002   72  Female  17.6          Never               0       NaN   \n",
       "3  ASTH100003   61    Male  16.8          Never               0  Multiple   \n",
       "4  ASTH100004   21    Male  30.2          Never               0       NaN   \n",
       "\n",
       "  Air_Pollution_Level Physical_Activity_Level Occupation_Type Comorbidities  \\\n",
       "0            Moderate               Sedentary         Outdoor      Diabetes   \n",
       "1                 Low                Moderate          Indoor          Both   \n",
       "2            Moderate                Moderate          Indoor           NaN   \n",
       "3                High               Sedentary         Outdoor          Both   \n",
       "4            Moderate                  Active          Indoor           NaN   \n",
       "\n",
       "   Medication_Adherence  Number_of_ER_Visits  Peak_Expiratory_Flow  \\\n",
       "0                  0.38                    0                 421.0   \n",
       "1                  0.60                    2                 297.6   \n",
       "2                  0.38                    0                 303.3   \n",
       "3                  0.60                    1                 438.0   \n",
       "4                  0.82                    3                 535.0   \n",
       "\n",
       "   FeNO_Level  Has_Asthma Asthma_Control_Level  \n",
       "0        46.0           0                  NaN  \n",
       "1        22.9           0                  NaN  \n",
       "2        15.3           0                  NaN  \n",
       "3        40.1           1    Poorly Controlled  \n",
       "4        27.7           0                  NaN  "
      ]
     },
     "execution_count": 4,
     "metadata": {},
     "output_type": "execute_result"
    }
   ],
   "source": [
    "df.head()"
   ]
  },
  {
   "cell_type": "code",
   "execution_count": 5,
   "id": "0981a7c7",
   "metadata": {},
   "outputs": [
    {
     "name": "stdout",
     "output_type": "stream",
     "text": [
      "<class 'pandas.core.frame.DataFrame'>\n",
      "RangeIndex: 1499 entries, 0 to 1498\n",
      "Data columns (total 17 columns):\n",
      " #   Column                   Non-Null Count  Dtype  \n",
      "---  ------                   --------------  -----  \n",
      " 0   Patient_ID               1499 non-null   object \n",
      " 1   Age                      1499 non-null   int64  \n",
      " 2   Gender                   1499 non-null   object \n",
      " 3   BMI                      1499 non-null   float64\n",
      " 4   Smoking_Status           1499 non-null   object \n",
      " 5   Family_History           1499 non-null   int64  \n",
      " 6   Allergies                1049 non-null   object \n",
      " 7   Air_Pollution_Level      1499 non-null   object \n",
      " 8   Physical_Activity_Level  1499 non-null   object \n",
      " 9   Occupation_Type          1499 non-null   object \n",
      " 10  Comorbidities            734 non-null    object \n",
      " 11  Medication_Adherence     1499 non-null   float64\n",
      " 12  Number_of_ER_Visits      1499 non-null   int64  \n",
      " 13  Peak_Expiratory_Flow     1499 non-null   float64\n",
      " 14  FeNO_Level               1499 non-null   float64\n",
      " 15  Has_Asthma               1499 non-null   int64  \n",
      " 16  Asthma_Control_Level     365 non-null    object \n",
      "dtypes: float64(4), int64(4), object(9)\n",
      "memory usage: 199.2+ KB\n"
     ]
    }
   ],
   "source": [
    "df.info()"
   ]
  },
  {
   "cell_type": "code",
   "execution_count": 6,
   "id": "dfe5753e",
   "metadata": {},
   "outputs": [
    {
     "data": {
      "text/plain": [
       "Index(['Patient_ID', 'Age', 'Gender', 'BMI', 'Smoking_Status',\n",
       "       'Family_History', 'Allergies', 'Air_Pollution_Level',\n",
       "       'Physical_Activity_Level', 'Occupation_Type', 'Comorbidities',\n",
       "       'Medication_Adherence', 'Number_of_ER_Visits', 'Peak_Expiratory_Flow',\n",
       "       'FeNO_Level', 'Has_Asthma', 'Asthma_Control_Level'],\n",
       "      dtype='object')"
      ]
     },
     "execution_count": 6,
     "metadata": {},
     "output_type": "execute_result"
    }
   ],
   "source": [
    "df.columns"
   ]
  },
  {
   "cell_type": "code",
   "execution_count": 7,
   "id": "cad4a271",
   "metadata": {},
   "outputs": [
    {
     "data": {
      "text/plain": [
       "Patient_ID                    0\n",
       "Age                           0\n",
       "Gender                        0\n",
       "BMI                           0\n",
       "Smoking_Status                0\n",
       "Family_History                0\n",
       "Allergies                   450\n",
       "Air_Pollution_Level           0\n",
       "Physical_Activity_Level       0\n",
       "Occupation_Type               0\n",
       "Comorbidities               765\n",
       "Medication_Adherence          0\n",
       "Number_of_ER_Visits           0\n",
       "Peak_Expiratory_Flow          0\n",
       "FeNO_Level                    0\n",
       "Has_Asthma                    0\n",
       "Asthma_Control_Level       1134\n",
       "dtype: int64"
      ]
     },
     "execution_count": 7,
     "metadata": {},
     "output_type": "execute_result"
    }
   ],
   "source": [
    "df.isnull().sum()"
   ]
  },
  {
   "cell_type": "code",
   "execution_count": 8,
   "id": "e944e61c",
   "metadata": {},
   "outputs": [
    {
     "data": {
      "text/html": [
       "<div>\n",
       "<style scoped>\n",
       "    .dataframe tbody tr th:only-of-type {\n",
       "        vertical-align: middle;\n",
       "    }\n",
       "\n",
       "    .dataframe tbody tr th {\n",
       "        vertical-align: top;\n",
       "    }\n",
       "\n",
       "    .dataframe thead th {\n",
       "        text-align: right;\n",
       "    }\n",
       "</style>\n",
       "<table border=\"1\" class=\"dataframe\">\n",
       "  <thead>\n",
       "    <tr style=\"text-align: right;\">\n",
       "      <th></th>\n",
       "      <th>Patient_ID</th>\n",
       "      <th>Age</th>\n",
       "      <th>Gender</th>\n",
       "      <th>BMI</th>\n",
       "      <th>Smoking_Status</th>\n",
       "      <th>Family_History</th>\n",
       "      <th>Allergies</th>\n",
       "      <th>Air_Pollution_Level</th>\n",
       "      <th>Physical_Activity_Level</th>\n",
       "      <th>Occupation_Type</th>\n",
       "      <th>Comorbidities</th>\n",
       "      <th>Medication_Adherence</th>\n",
       "      <th>Number_of_ER_Visits</th>\n",
       "      <th>Peak_Expiratory_Flow</th>\n",
       "      <th>FeNO_Level</th>\n",
       "      <th>Has_Asthma</th>\n",
       "      <th>Asthma_Control_Level</th>\n",
       "    </tr>\n",
       "  </thead>\n",
       "  <tbody>\n",
       "    <tr>\n",
       "      <th>0</th>\n",
       "      <td>ASTH100000</td>\n",
       "      <td>52</td>\n",
       "      <td>Female</td>\n",
       "      <td>27.6</td>\n",
       "      <td>Former</td>\n",
       "      <td>1</td>\n",
       "      <td>NaN</td>\n",
       "      <td>Moderate</td>\n",
       "      <td>Sedentary</td>\n",
       "      <td>Outdoor</td>\n",
       "      <td>Diabetes</td>\n",
       "      <td>0.38</td>\n",
       "      <td>0</td>\n",
       "      <td>421.0</td>\n",
       "      <td>46.0</td>\n",
       "      <td>0</td>\n",
       "      <td>NaN</td>\n",
       "    </tr>\n",
       "    <tr>\n",
       "      <th>1</th>\n",
       "      <td>ASTH100001</td>\n",
       "      <td>15</td>\n",
       "      <td>Male</td>\n",
       "      <td>24.6</td>\n",
       "      <td>Former</td>\n",
       "      <td>0</td>\n",
       "      <td>Dust</td>\n",
       "      <td>Low</td>\n",
       "      <td>Moderate</td>\n",
       "      <td>Indoor</td>\n",
       "      <td>Both</td>\n",
       "      <td>0.60</td>\n",
       "      <td>2</td>\n",
       "      <td>297.6</td>\n",
       "      <td>22.9</td>\n",
       "      <td>0</td>\n",
       "      <td>NaN</td>\n",
       "    </tr>\n",
       "    <tr>\n",
       "      <th>2</th>\n",
       "      <td>ASTH100002</td>\n",
       "      <td>72</td>\n",
       "      <td>Female</td>\n",
       "      <td>17.6</td>\n",
       "      <td>Never</td>\n",
       "      <td>0</td>\n",
       "      <td>NaN</td>\n",
       "      <td>Moderate</td>\n",
       "      <td>Moderate</td>\n",
       "      <td>Indoor</td>\n",
       "      <td>NaN</td>\n",
       "      <td>0.38</td>\n",
       "      <td>0</td>\n",
       "      <td>303.3</td>\n",
       "      <td>15.3</td>\n",
       "      <td>0</td>\n",
       "      <td>NaN</td>\n",
       "    </tr>\n",
       "    <tr>\n",
       "      <th>3</th>\n",
       "      <td>ASTH100003</td>\n",
       "      <td>61</td>\n",
       "      <td>Male</td>\n",
       "      <td>16.8</td>\n",
       "      <td>Never</td>\n",
       "      <td>0</td>\n",
       "      <td>Multiple</td>\n",
       "      <td>High</td>\n",
       "      <td>Sedentary</td>\n",
       "      <td>Outdoor</td>\n",
       "      <td>Both</td>\n",
       "      <td>0.60</td>\n",
       "      <td>1</td>\n",
       "      <td>438.0</td>\n",
       "      <td>40.1</td>\n",
       "      <td>1</td>\n",
       "      <td>Poorly Controlled</td>\n",
       "    </tr>\n",
       "    <tr>\n",
       "      <th>4</th>\n",
       "      <td>ASTH100004</td>\n",
       "      <td>21</td>\n",
       "      <td>Male</td>\n",
       "      <td>30.2</td>\n",
       "      <td>Never</td>\n",
       "      <td>0</td>\n",
       "      <td>NaN</td>\n",
       "      <td>Moderate</td>\n",
       "      <td>Active</td>\n",
       "      <td>Indoor</td>\n",
       "      <td>NaN</td>\n",
       "      <td>0.82</td>\n",
       "      <td>3</td>\n",
       "      <td>535.0</td>\n",
       "      <td>27.7</td>\n",
       "      <td>0</td>\n",
       "      <td>NaN</td>\n",
       "    </tr>\n",
       "    <tr>\n",
       "      <th>...</th>\n",
       "      <td>...</td>\n",
       "      <td>...</td>\n",
       "      <td>...</td>\n",
       "      <td>...</td>\n",
       "      <td>...</td>\n",
       "      <td>...</td>\n",
       "      <td>...</td>\n",
       "      <td>...</td>\n",
       "      <td>...</td>\n",
       "      <td>...</td>\n",
       "      <td>...</td>\n",
       "      <td>...</td>\n",
       "      <td>...</td>\n",
       "      <td>...</td>\n",
       "      <td>...</td>\n",
       "      <td>...</td>\n",
       "      <td>...</td>\n",
       "    </tr>\n",
       "    <tr>\n",
       "      <th>1494</th>\n",
       "      <td>ASTH101494</td>\n",
       "      <td>3</td>\n",
       "      <td>Other</td>\n",
       "      <td>21.8</td>\n",
       "      <td>Former</td>\n",
       "      <td>0</td>\n",
       "      <td>Multiple</td>\n",
       "      <td>Low</td>\n",
       "      <td>Moderate</td>\n",
       "      <td>Indoor</td>\n",
       "      <td>NaN</td>\n",
       "      <td>0.25</td>\n",
       "      <td>1</td>\n",
       "      <td>302.6</td>\n",
       "      <td>21.8</td>\n",
       "      <td>0</td>\n",
       "      <td>NaN</td>\n",
       "    </tr>\n",
       "    <tr>\n",
       "      <th>1495</th>\n",
       "      <td>ASTH101495</td>\n",
       "      <td>6</td>\n",
       "      <td>Male</td>\n",
       "      <td>22.5</td>\n",
       "      <td>Former</td>\n",
       "      <td>1</td>\n",
       "      <td>Pets</td>\n",
       "      <td>Low</td>\n",
       "      <td>Sedentary</td>\n",
       "      <td>Outdoor</td>\n",
       "      <td>Diabetes</td>\n",
       "      <td>0.47</td>\n",
       "      <td>1</td>\n",
       "      <td>424.7</td>\n",
       "      <td>30.6</td>\n",
       "      <td>1</td>\n",
       "      <td>Not Controlled</td>\n",
       "    </tr>\n",
       "    <tr>\n",
       "      <th>1496</th>\n",
       "      <td>ASTH101496</td>\n",
       "      <td>5</td>\n",
       "      <td>Male</td>\n",
       "      <td>21.9</td>\n",
       "      <td>Never</td>\n",
       "      <td>0</td>\n",
       "      <td>NaN</td>\n",
       "      <td>Moderate</td>\n",
       "      <td>Sedentary</td>\n",
       "      <td>Outdoor</td>\n",
       "      <td>NaN</td>\n",
       "      <td>0.46</td>\n",
       "      <td>1</td>\n",
       "      <td>355.3</td>\n",
       "      <td>33.3</td>\n",
       "      <td>0</td>\n",
       "      <td>NaN</td>\n",
       "    </tr>\n",
       "    <tr>\n",
       "      <th>1497</th>\n",
       "      <td>ASTH101497</td>\n",
       "      <td>5</td>\n",
       "      <td>Female</td>\n",
       "      <td>20.1</td>\n",
       "      <td>Former</td>\n",
       "      <td>0</td>\n",
       "      <td>NaN</td>\n",
       "      <td>High</td>\n",
       "      <td>Sedentary</td>\n",
       "      <td>Indoor</td>\n",
       "      <td>Diabetes</td>\n",
       "      <td>0.43</td>\n",
       "      <td>2</td>\n",
       "      <td>600.0</td>\n",
       "      <td>20.2</td>\n",
       "      <td>0</td>\n",
       "      <td>NaN</td>\n",
       "    </tr>\n",
       "    <tr>\n",
       "      <th>1498</th>\n",
       "      <td>ASTH101498</td>\n",
       "      <td>54</td>\n",
       "      <td>Male</td>\n",
       "      <td>20.0</td>\n",
       "      <td>Never</td>\n",
       "      <td>0</td>\n",
       "      <td>Pollen</td>\n",
       "      <td>Low</td>\n",
       "      <td>Moderate</td>\n",
       "      <td>Indoor</td>\n",
       "      <td>Diabetes</td>\n",
       "      <td>0.41</td>\n",
       "      <td>2</td>\n",
       "      <td>360.8</td>\n",
       "      <td>22.2</td>\n",
       "      <td>0</td>\n",
       "      <td>NaN</td>\n",
       "    </tr>\n",
       "  </tbody>\n",
       "</table>\n",
       "<p>1499 rows × 17 columns</p>\n",
       "</div>"
      ],
      "text/plain": [
       "      Patient_ID  Age  Gender   BMI Smoking_Status  Family_History Allergies  \\\n",
       "0     ASTH100000   52  Female  27.6         Former               1       NaN   \n",
       "1     ASTH100001   15    Male  24.6         Former               0      Dust   \n",
       "2     ASTH100002   72  Female  17.6          Never               0       NaN   \n",
       "3     ASTH100003   61    Male  16.8          Never               0  Multiple   \n",
       "4     ASTH100004   21    Male  30.2          Never               0       NaN   \n",
       "...          ...  ...     ...   ...            ...             ...       ...   \n",
       "1494  ASTH101494    3   Other  21.8         Former               0  Multiple   \n",
       "1495  ASTH101495    6    Male  22.5         Former               1      Pets   \n",
       "1496  ASTH101496    5    Male  21.9          Never               0       NaN   \n",
       "1497  ASTH101497    5  Female  20.1         Former               0       NaN   \n",
       "1498  ASTH101498   54    Male  20.0          Never               0    Pollen   \n",
       "\n",
       "     Air_Pollution_Level Physical_Activity_Level Occupation_Type  \\\n",
       "0               Moderate               Sedentary         Outdoor   \n",
       "1                    Low                Moderate          Indoor   \n",
       "2               Moderate                Moderate          Indoor   \n",
       "3                   High               Sedentary         Outdoor   \n",
       "4               Moderate                  Active          Indoor   \n",
       "...                  ...                     ...             ...   \n",
       "1494                 Low                Moderate          Indoor   \n",
       "1495                 Low               Sedentary         Outdoor   \n",
       "1496            Moderate               Sedentary         Outdoor   \n",
       "1497                High               Sedentary          Indoor   \n",
       "1498                 Low                Moderate          Indoor   \n",
       "\n",
       "     Comorbidities  Medication_Adherence  Number_of_ER_Visits  \\\n",
       "0         Diabetes                  0.38                    0   \n",
       "1             Both                  0.60                    2   \n",
       "2              NaN                  0.38                    0   \n",
       "3             Both                  0.60                    1   \n",
       "4              NaN                  0.82                    3   \n",
       "...            ...                   ...                  ...   \n",
       "1494           NaN                  0.25                    1   \n",
       "1495      Diabetes                  0.47                    1   \n",
       "1496           NaN                  0.46                    1   \n",
       "1497      Diabetes                  0.43                    2   \n",
       "1498      Diabetes                  0.41                    2   \n",
       "\n",
       "      Peak_Expiratory_Flow  FeNO_Level  Has_Asthma Asthma_Control_Level  \n",
       "0                    421.0        46.0           0                  NaN  \n",
       "1                    297.6        22.9           0                  NaN  \n",
       "2                    303.3        15.3           0                  NaN  \n",
       "3                    438.0        40.1           1    Poorly Controlled  \n",
       "4                    535.0        27.7           0                  NaN  \n",
       "...                    ...         ...         ...                  ...  \n",
       "1494                 302.6        21.8           0                  NaN  \n",
       "1495                 424.7        30.6           1       Not Controlled  \n",
       "1496                 355.3        33.3           0                  NaN  \n",
       "1497                 600.0        20.2           0                  NaN  \n",
       "1498                 360.8        22.2           0                  NaN  \n",
       "\n",
       "[1499 rows x 17 columns]"
      ]
     },
     "execution_count": 8,
     "metadata": {},
     "output_type": "execute_result"
    }
   ],
   "source": [
    "df.fillna(df[\"Asthma_Control_Level\"]==\"7\")"
   ]
  },
  {
   "cell_type": "code",
   "execution_count": 9,
   "id": "9f62f2d1",
   "metadata": {},
   "outputs": [
    {
     "data": {
      "text/plain": [
       "Patient_ID                    0\n",
       "Age                           0\n",
       "Gender                        0\n",
       "BMI                           0\n",
       "Smoking_Status                0\n",
       "Family_History                0\n",
       "Allergies                   450\n",
       "Air_Pollution_Level           0\n",
       "Physical_Activity_Level       0\n",
       "Occupation_Type               0\n",
       "Comorbidities               765\n",
       "Medication_Adherence          0\n",
       "Number_of_ER_Visits           0\n",
       "Peak_Expiratory_Flow          0\n",
       "FeNO_Level                    0\n",
       "Has_Asthma                    0\n",
       "Asthma_Control_Level       1134\n",
       "dtype: int64"
      ]
     },
     "execution_count": 9,
     "metadata": {},
     "output_type": "execute_result"
    }
   ],
   "source": [
    "df.isnull().sum()"
   ]
  },
  {
   "cell_type": "code",
   "execution_count": 10,
   "id": "62c0214e",
   "metadata": {},
   "outputs": [
    {
     "name": "stdout",
     "output_type": "stream",
     "text": [
      "Patient_ID                  0.000000\n",
      "Age                         0.000000\n",
      "Gender                      0.000000\n",
      "BMI                         0.000000\n",
      "Smoking_Status              0.000000\n",
      "Family_History              0.000000\n",
      "Allergies                  30.020013\n",
      "Air_Pollution_Level         0.000000\n",
      "Physical_Activity_Level     0.000000\n",
      "Occupation_Type             0.000000\n",
      "Comorbidities              51.034023\n",
      "Medication_Adherence        0.000000\n",
      "Number_of_ER_Visits         0.000000\n",
      "Peak_Expiratory_Flow        0.000000\n",
      "FeNO_Level                  0.000000\n",
      "Has_Asthma                  0.000000\n",
      "Asthma_Control_Level       75.650434\n",
      "dtype: float64\n"
     ]
    }
   ],
   "source": [
    "null_percent = df.isnull().mean() * 100\n",
    "print(null_percent)\n"
   ]
  },
  {
   "cell_type": "code",
   "execution_count": 11,
   "id": "2f5a1937",
   "metadata": {},
   "outputs": [],
   "source": [
    "df['Allergies'] = df['Allergies'].fillna(df['Allergies'].mode()[0])"
   ]
  },
  {
   "cell_type": "code",
   "execution_count": 12,
   "id": "a9860aad",
   "metadata": {},
   "outputs": [],
   "source": [
    "df=df.drop(\"Patient_ID\",axis=1)\n",
    "df=df.drop(\"Asthma_Control_Level\",axis=1)\n",
    "df=df.drop(\"Comorbidities\",axis=1)\n"
   ]
  },
  {
   "cell_type": "code",
   "execution_count": 13,
   "id": "15a2b12e",
   "metadata": {},
   "outputs": [
    {
     "data": {
      "text/html": [
       "<div>\n",
       "<style scoped>\n",
       "    .dataframe tbody tr th:only-of-type {\n",
       "        vertical-align: middle;\n",
       "    }\n",
       "\n",
       "    .dataframe tbody tr th {\n",
       "        vertical-align: top;\n",
       "    }\n",
       "\n",
       "    .dataframe thead th {\n",
       "        text-align: right;\n",
       "    }\n",
       "</style>\n",
       "<table border=\"1\" class=\"dataframe\">\n",
       "  <thead>\n",
       "    <tr style=\"text-align: right;\">\n",
       "      <th></th>\n",
       "      <th>Age</th>\n",
       "      <th>Gender</th>\n",
       "      <th>BMI</th>\n",
       "      <th>Smoking_Status</th>\n",
       "      <th>Family_History</th>\n",
       "      <th>Allergies</th>\n",
       "      <th>Air_Pollution_Level</th>\n",
       "      <th>Physical_Activity_Level</th>\n",
       "      <th>Occupation_Type</th>\n",
       "      <th>Medication_Adherence</th>\n",
       "      <th>Number_of_ER_Visits</th>\n",
       "      <th>Peak_Expiratory_Flow</th>\n",
       "      <th>FeNO_Level</th>\n",
       "      <th>Has_Asthma</th>\n",
       "    </tr>\n",
       "  </thead>\n",
       "  <tbody>\n",
       "    <tr>\n",
       "      <th>0</th>\n",
       "      <td>52</td>\n",
       "      <td>Female</td>\n",
       "      <td>27.6</td>\n",
       "      <td>Former</td>\n",
       "      <td>1</td>\n",
       "      <td>Dust</td>\n",
       "      <td>Moderate</td>\n",
       "      <td>Sedentary</td>\n",
       "      <td>Outdoor</td>\n",
       "      <td>0.38</td>\n",
       "      <td>0</td>\n",
       "      <td>421.0</td>\n",
       "      <td>46.0</td>\n",
       "      <td>0</td>\n",
       "    </tr>\n",
       "    <tr>\n",
       "      <th>1</th>\n",
       "      <td>15</td>\n",
       "      <td>Male</td>\n",
       "      <td>24.6</td>\n",
       "      <td>Former</td>\n",
       "      <td>0</td>\n",
       "      <td>Dust</td>\n",
       "      <td>Low</td>\n",
       "      <td>Moderate</td>\n",
       "      <td>Indoor</td>\n",
       "      <td>0.60</td>\n",
       "      <td>2</td>\n",
       "      <td>297.6</td>\n",
       "      <td>22.9</td>\n",
       "      <td>0</td>\n",
       "    </tr>\n",
       "    <tr>\n",
       "      <th>2</th>\n",
       "      <td>72</td>\n",
       "      <td>Female</td>\n",
       "      <td>17.6</td>\n",
       "      <td>Never</td>\n",
       "      <td>0</td>\n",
       "      <td>Dust</td>\n",
       "      <td>Moderate</td>\n",
       "      <td>Moderate</td>\n",
       "      <td>Indoor</td>\n",
       "      <td>0.38</td>\n",
       "      <td>0</td>\n",
       "      <td>303.3</td>\n",
       "      <td>15.3</td>\n",
       "      <td>0</td>\n",
       "    </tr>\n",
       "    <tr>\n",
       "      <th>3</th>\n",
       "      <td>61</td>\n",
       "      <td>Male</td>\n",
       "      <td>16.8</td>\n",
       "      <td>Never</td>\n",
       "      <td>0</td>\n",
       "      <td>Multiple</td>\n",
       "      <td>High</td>\n",
       "      <td>Sedentary</td>\n",
       "      <td>Outdoor</td>\n",
       "      <td>0.60</td>\n",
       "      <td>1</td>\n",
       "      <td>438.0</td>\n",
       "      <td>40.1</td>\n",
       "      <td>1</td>\n",
       "    </tr>\n",
       "    <tr>\n",
       "      <th>4</th>\n",
       "      <td>21</td>\n",
       "      <td>Male</td>\n",
       "      <td>30.2</td>\n",
       "      <td>Never</td>\n",
       "      <td>0</td>\n",
       "      <td>Dust</td>\n",
       "      <td>Moderate</td>\n",
       "      <td>Active</td>\n",
       "      <td>Indoor</td>\n",
       "      <td>0.82</td>\n",
       "      <td>3</td>\n",
       "      <td>535.0</td>\n",
       "      <td>27.7</td>\n",
       "      <td>0</td>\n",
       "    </tr>\n",
       "    <tr>\n",
       "      <th>5</th>\n",
       "      <td>83</td>\n",
       "      <td>Other</td>\n",
       "      <td>27.8</td>\n",
       "      <td>Never</td>\n",
       "      <td>1</td>\n",
       "      <td>Pollen</td>\n",
       "      <td>Moderate</td>\n",
       "      <td>Moderate</td>\n",
       "      <td>Outdoor</td>\n",
       "      <td>0.18</td>\n",
       "      <td>2</td>\n",
       "      <td>232.9</td>\n",
       "      <td>45.1</td>\n",
       "      <td>0</td>\n",
       "    </tr>\n",
       "    <tr>\n",
       "      <th>6</th>\n",
       "      <td>87</td>\n",
       "      <td>Female</td>\n",
       "      <td>32.3</td>\n",
       "      <td>Former</td>\n",
       "      <td>0</td>\n",
       "      <td>Pollen</td>\n",
       "      <td>Moderate</td>\n",
       "      <td>Sedentary</td>\n",
       "      <td>Outdoor</td>\n",
       "      <td>0.18</td>\n",
       "      <td>0</td>\n",
       "      <td>370.7</td>\n",
       "      <td>14.1</td>\n",
       "      <td>0</td>\n",
       "    </tr>\n",
       "    <tr>\n",
       "      <th>7</th>\n",
       "      <td>75</td>\n",
       "      <td>Male</td>\n",
       "      <td>29.7</td>\n",
       "      <td>Never</td>\n",
       "      <td>0</td>\n",
       "      <td>Pets</td>\n",
       "      <td>High</td>\n",
       "      <td>Sedentary</td>\n",
       "      <td>Indoor</td>\n",
       "      <td>0.53</td>\n",
       "      <td>0</td>\n",
       "      <td>302.2</td>\n",
       "      <td>17.6</td>\n",
       "      <td>1</td>\n",
       "    </tr>\n",
       "    <tr>\n",
       "      <th>8</th>\n",
       "      <td>75</td>\n",
       "      <td>Male</td>\n",
       "      <td>23.1</td>\n",
       "      <td>Never</td>\n",
       "      <td>0</td>\n",
       "      <td>Pollen</td>\n",
       "      <td>Moderate</td>\n",
       "      <td>Moderate</td>\n",
       "      <td>Indoor</td>\n",
       "      <td>0.83</td>\n",
       "      <td>2</td>\n",
       "      <td>523.4</td>\n",
       "      <td>27.6</td>\n",
       "      <td>0</td>\n",
       "    </tr>\n",
       "    <tr>\n",
       "      <th>9</th>\n",
       "      <td>88</td>\n",
       "      <td>Male</td>\n",
       "      <td>15.0</td>\n",
       "      <td>Current</td>\n",
       "      <td>1</td>\n",
       "      <td>Dust</td>\n",
       "      <td>Low</td>\n",
       "      <td>Active</td>\n",
       "      <td>Indoor</td>\n",
       "      <td>0.36</td>\n",
       "      <td>3</td>\n",
       "      <td>377.0</td>\n",
       "      <td>14.9</td>\n",
       "      <td>0</td>\n",
       "    </tr>\n",
       "  </tbody>\n",
       "</table>\n",
       "</div>"
      ],
      "text/plain": [
       "   Age  Gender   BMI Smoking_Status  Family_History Allergies  \\\n",
       "0   52  Female  27.6         Former               1      Dust   \n",
       "1   15    Male  24.6         Former               0      Dust   \n",
       "2   72  Female  17.6          Never               0      Dust   \n",
       "3   61    Male  16.8          Never               0  Multiple   \n",
       "4   21    Male  30.2          Never               0      Dust   \n",
       "5   83   Other  27.8          Never               1    Pollen   \n",
       "6   87  Female  32.3         Former               0    Pollen   \n",
       "7   75    Male  29.7          Never               0      Pets   \n",
       "8   75    Male  23.1          Never               0    Pollen   \n",
       "9   88    Male  15.0        Current               1      Dust   \n",
       "\n",
       "  Air_Pollution_Level Physical_Activity_Level Occupation_Type  \\\n",
       "0            Moderate               Sedentary         Outdoor   \n",
       "1                 Low                Moderate          Indoor   \n",
       "2            Moderate                Moderate          Indoor   \n",
       "3                High               Sedentary         Outdoor   \n",
       "4            Moderate                  Active          Indoor   \n",
       "5            Moderate                Moderate         Outdoor   \n",
       "6            Moderate               Sedentary         Outdoor   \n",
       "7                High               Sedentary          Indoor   \n",
       "8            Moderate                Moderate          Indoor   \n",
       "9                 Low                  Active          Indoor   \n",
       "\n",
       "   Medication_Adherence  Number_of_ER_Visits  Peak_Expiratory_Flow  \\\n",
       "0                  0.38                    0                 421.0   \n",
       "1                  0.60                    2                 297.6   \n",
       "2                  0.38                    0                 303.3   \n",
       "3                  0.60                    1                 438.0   \n",
       "4                  0.82                    3                 535.0   \n",
       "5                  0.18                    2                 232.9   \n",
       "6                  0.18                    0                 370.7   \n",
       "7                  0.53                    0                 302.2   \n",
       "8                  0.83                    2                 523.4   \n",
       "9                  0.36                    3                 377.0   \n",
       "\n",
       "   FeNO_Level  Has_Asthma  \n",
       "0        46.0           0  \n",
       "1        22.9           0  \n",
       "2        15.3           0  \n",
       "3        40.1           1  \n",
       "4        27.7           0  \n",
       "5        45.1           0  \n",
       "6        14.1           0  \n",
       "7        17.6           1  \n",
       "8        27.6           0  \n",
       "9        14.9           0  "
      ]
     },
     "execution_count": 13,
     "metadata": {},
     "output_type": "execute_result"
    }
   ],
   "source": [
    "df.head(10)"
   ]
  },
  {
   "cell_type": "code",
   "execution_count": 14,
   "id": "edcd6861",
   "metadata": {},
   "outputs": [
    {
     "data": {
      "text/html": [
       "<div>\n",
       "<style scoped>\n",
       "    .dataframe tbody tr th:only-of-type {\n",
       "        vertical-align: middle;\n",
       "    }\n",
       "\n",
       "    .dataframe tbody tr th {\n",
       "        vertical-align: top;\n",
       "    }\n",
       "\n",
       "    .dataframe thead th {\n",
       "        text-align: right;\n",
       "    }\n",
       "</style>\n",
       "<table border=\"1\" class=\"dataframe\">\n",
       "  <thead>\n",
       "    <tr style=\"text-align: right;\">\n",
       "      <th></th>\n",
       "      <th>Age</th>\n",
       "      <th>BMI</th>\n",
       "      <th>Family_History</th>\n",
       "      <th>Medication_Adherence</th>\n",
       "      <th>Number_of_ER_Visits</th>\n",
       "      <th>Peak_Expiratory_Flow</th>\n",
       "      <th>FeNO_Level</th>\n",
       "      <th>Has_Asthma</th>\n",
       "    </tr>\n",
       "  </thead>\n",
       "  <tbody>\n",
       "    <tr>\n",
       "      <th>count</th>\n",
       "      <td>1499.000000</td>\n",
       "      <td>1499.000000</td>\n",
       "      <td>1499.000000</td>\n",
       "      <td>1499.000000</td>\n",
       "      <td>1499.000000</td>\n",
       "      <td>1499.000000</td>\n",
       "      <td>1499.000000</td>\n",
       "      <td>1499.000000</td>\n",
       "    </tr>\n",
       "    <tr>\n",
       "      <th>mean</th>\n",
       "      <td>43.511007</td>\n",
       "      <td>25.039626</td>\n",
       "      <td>0.296197</td>\n",
       "      <td>0.496017</td>\n",
       "      <td>1.004670</td>\n",
       "      <td>403.345497</td>\n",
       "      <td>25.484390</td>\n",
       "      <td>0.243496</td>\n",
       "    </tr>\n",
       "    <tr>\n",
       "      <th>std</th>\n",
       "      <td>25.621234</td>\n",
       "      <td>4.830812</td>\n",
       "      <td>0.456732</td>\n",
       "      <td>0.228677</td>\n",
       "      <td>1.010283</td>\n",
       "      <td>98.231751</td>\n",
       "      <td>9.745048</td>\n",
       "      <td>0.429335</td>\n",
       "    </tr>\n",
       "    <tr>\n",
       "      <th>min</th>\n",
       "      <td>1.000000</td>\n",
       "      <td>15.000000</td>\n",
       "      <td>0.000000</td>\n",
       "      <td>0.000000</td>\n",
       "      <td>0.000000</td>\n",
       "      <td>150.000000</td>\n",
       "      <td>5.000000</td>\n",
       "      <td>0.000000</td>\n",
       "    </tr>\n",
       "    <tr>\n",
       "      <th>25%</th>\n",
       "      <td>21.000000</td>\n",
       "      <td>21.600000</td>\n",
       "      <td>0.000000</td>\n",
       "      <td>0.320000</td>\n",
       "      <td>0.000000</td>\n",
       "      <td>332.200000</td>\n",
       "      <td>19.000000</td>\n",
       "      <td>0.000000</td>\n",
       "    </tr>\n",
       "    <tr>\n",
       "      <th>50%</th>\n",
       "      <td>43.000000</td>\n",
       "      <td>24.900000</td>\n",
       "      <td>0.000000</td>\n",
       "      <td>0.500000</td>\n",
       "      <td>1.000000</td>\n",
       "      <td>406.500000</td>\n",
       "      <td>25.700000</td>\n",
       "      <td>0.000000</td>\n",
       "    </tr>\n",
       "    <tr>\n",
       "      <th>75%</th>\n",
       "      <td>64.000000</td>\n",
       "      <td>28.400000</td>\n",
       "      <td>1.000000</td>\n",
       "      <td>0.670000</td>\n",
       "      <td>2.000000</td>\n",
       "      <td>471.200000</td>\n",
       "      <td>31.800000</td>\n",
       "      <td>0.000000</td>\n",
       "    </tr>\n",
       "    <tr>\n",
       "      <th>max</th>\n",
       "      <td>89.000000</td>\n",
       "      <td>41.200000</td>\n",
       "      <td>1.000000</td>\n",
       "      <td>0.990000</td>\n",
       "      <td>5.000000</td>\n",
       "      <td>600.000000</td>\n",
       "      <td>54.400000</td>\n",
       "      <td>1.000000</td>\n",
       "    </tr>\n",
       "  </tbody>\n",
       "</table>\n",
       "</div>"
      ],
      "text/plain": [
       "               Age          BMI  Family_History  Medication_Adherence  \\\n",
       "count  1499.000000  1499.000000     1499.000000           1499.000000   \n",
       "mean     43.511007    25.039626        0.296197              0.496017   \n",
       "std      25.621234     4.830812        0.456732              0.228677   \n",
       "min       1.000000    15.000000        0.000000              0.000000   \n",
       "25%      21.000000    21.600000        0.000000              0.320000   \n",
       "50%      43.000000    24.900000        0.000000              0.500000   \n",
       "75%      64.000000    28.400000        1.000000              0.670000   \n",
       "max      89.000000    41.200000        1.000000              0.990000   \n",
       "\n",
       "       Number_of_ER_Visits  Peak_Expiratory_Flow   FeNO_Level   Has_Asthma  \n",
       "count          1499.000000           1499.000000  1499.000000  1499.000000  \n",
       "mean              1.004670            403.345497    25.484390     0.243496  \n",
       "std               1.010283             98.231751     9.745048     0.429335  \n",
       "min               0.000000            150.000000     5.000000     0.000000  \n",
       "25%               0.000000            332.200000    19.000000     0.000000  \n",
       "50%               1.000000            406.500000    25.700000     0.000000  \n",
       "75%               2.000000            471.200000    31.800000     0.000000  \n",
       "max               5.000000            600.000000    54.400000     1.000000  "
      ]
     },
     "execution_count": 14,
     "metadata": {},
     "output_type": "execute_result"
    }
   ],
   "source": [
    "df.describe()"
   ]
  },
  {
   "cell_type": "code",
   "execution_count": 15,
   "id": "9edf136d",
   "metadata": {},
   "outputs": [
    {
     "data": {
      "text/plain": [
       "Allergies\n",
       "Dust        813\n",
       "Pollen      314\n",
       "Pets        225\n",
       "Multiple    147\n",
       "Name: count, dtype: int64"
      ]
     },
     "execution_count": 15,
     "metadata": {},
     "output_type": "execute_result"
    }
   ],
   "source": [
    "df[\"Allergies\"].value_counts()"
   ]
  },
  {
   "cell_type": "code",
   "execution_count": 16,
   "id": "abeeaafc",
   "metadata": {},
   "outputs": [
    {
     "data": {
      "text/plain": [
       "Gender\n",
       "Female    733\n",
       "Male      695\n",
       "Other      71\n",
       "Name: count, dtype: int64"
      ]
     },
     "execution_count": 16,
     "metadata": {},
     "output_type": "execute_result"
    }
   ],
   "source": [
    "df[\"Gender\"].value_counts()\n"
   ]
  },
  {
   "cell_type": "code",
   "execution_count": 17,
   "id": "4e187532",
   "metadata": {},
   "outputs": [
    {
     "data": {
      "text/plain": [
       "Air_Pollution_Level\n",
       "Moderate    738\n",
       "Low         449\n",
       "High        312\n",
       "Name: count, dtype: int64"
      ]
     },
     "execution_count": 17,
     "metadata": {},
     "output_type": "execute_result"
    }
   ],
   "source": [
    "df[\"Air_Pollution_Level\"].value_counts()"
   ]
  },
  {
   "cell_type": "code",
   "execution_count": 18,
   "id": "571146e3",
   "metadata": {},
   "outputs": [
    {
     "data": {
      "text/plain": [
       "Physical_Activity_Level\n",
       "Sedentary    629\n",
       "Moderate     566\n",
       "Active       304\n",
       "Name: count, dtype: int64"
      ]
     },
     "execution_count": 18,
     "metadata": {},
     "output_type": "execute_result"
    }
   ],
   "source": [
    "df[\"Physical_Activity_Level\"].value_counts()\n"
   ]
  },
  {
   "cell_type": "code",
   "execution_count": 19,
   "id": "a38ba853",
   "metadata": {},
   "outputs": [
    {
     "data": {
      "text/plain": [
       "Smoking_Status\n",
       "Never      885\n",
       "Former     415\n",
       "Current    199\n",
       "Name: count, dtype: int64"
      ]
     },
     "execution_count": 19,
     "metadata": {},
     "output_type": "execute_result"
    }
   ],
   "source": [
    "df[\"Smoking_Status\"].value_counts()\n"
   ]
  },
  {
   "cell_type": "code",
   "execution_count": 20,
   "id": "eb16f61f",
   "metadata": {},
   "outputs": [
    {
     "data": {
      "text/plain": [
       "Occupation_Type\n",
       "Indoor     1061\n",
       "Outdoor     438\n",
       "Name: count, dtype: int64"
      ]
     },
     "execution_count": 20,
     "metadata": {},
     "output_type": "execute_result"
    }
   ],
   "source": [
    "df[\"Occupation_Type\"].value_counts()"
   ]
  },
  {
   "cell_type": "code",
   "execution_count": 21,
   "id": "7dc01481",
   "metadata": {},
   "outputs": [
    {
     "data": {
      "text/plain": [
       "<Axes: xlabel='BMI'>"
      ]
     },
     "execution_count": 21,
     "metadata": {},
     "output_type": "execute_result"
    },
    {
     "data": {
      "image/png": "[encoded data removed]",
      "text/plain": [
       "<Figure size 640x480 with 1 Axes>"
      ]
     },
     "metadata": {},
     "output_type": "display_data"
    }
   ],
   "source": [
    "sns.boxplot(x='BMI', data=df)"
   ]
  },
  {
   "cell_type": "code",
   "execution_count": 22,
   "id": "f07601ac",
   "metadata": {},
   "outputs": [
    {
     "name": "stderr",
     "output_type": "stream",
     "text": [
      "C:\\Users\\As\\AppData\\Local\\Temp\\ipykernel_8424\\555082265.py:2: FutureWarning: \n",
      "\n",
      "Passing `palette` without assigning `hue` is deprecated and will be removed in v0.14.0. Assign the `x` variable to `hue` and set `legend=False` for the same effect.\n",
      "\n",
      "  sns.countplot(x='Has_Asthma', data=df , palette=\"mako\")\n"
     ]
    },
    {
     "data": {
      "text/plain": [
       "<Axes: xlabel='Has_Asthma', ylabel='count'>"
      ]
     },
     "execution_count": 22,
     "metadata": {},
     "output_type": "execute_result"
    },
    {
     "data": {
      "image/png": "[encoded data removed]",
      "text/plain": [
       "<Figure size 640x480 with 1 Axes>"
      ]
     },
     "metadata": {},
     "output_type": "display_data"
    }
   ],
   "source": [
    "# df['Has_Asthma'].value_counts(normalize=True)\n",
    "sns.countplot(x='Has_Asthma', data=df , palette=\"mako\")\n"
   ]
  },
  {
   "cell_type": "code",
   "execution_count": 23,
   "id": "2a53c6c0",
   "metadata": {},
   "outputs": [
    {
     "data": {
      "text/plain": [
       "Index(['Age', 'Gender', 'BMI', 'Smoking_Status', 'Family_History', 'Allergies',\n",
       "       'Air_Pollution_Level', 'Physical_Activity_Level', 'Occupation_Type',\n",
       "       'Medication_Adherence', 'Number_of_ER_Visits', 'Peak_Expiratory_Flow',\n",
       "       'FeNO_Level', 'Has_Asthma'],\n",
       "      dtype='object')"
      ]
     },
     "execution_count": 23,
     "metadata": {},
     "output_type": "execute_result"
    }
   ],
   "source": [
    "df.columns"
   ]
  },
  {
   "cell_type": "code",
   "execution_count": 24,
   "id": "1669e6fc",
   "metadata": {},
   "outputs": [
    {
     "name": "stderr",
     "output_type": "stream",
     "text": [
      "C:\\Users\\As\\AppData\\Local\\Temp\\ipykernel_8424\\1184902104.py:2: FutureWarning: \n",
      "\n",
      "Passing `palette` without assigning `hue` is deprecated and will be removed in v0.14.0. Assign the `x` variable to `hue` and set `legend=False` for the same effect.\n",
      "\n",
      "  sns.barplot(x=df[\"Family_History\"],y=df[\"Has_Asthma\"],data=df ,palette='mako')\n"
     ]
    },
    {
     "data": {
      "text/plain": [
       "<Axes: xlabel='Family_History', ylabel='Has_Asthma'>"
      ]
     },
     "execution_count": 24,
     "metadata": {},
     "output_type": "execute_result"
    },
    {
     "data": {
      "image/png": "[encoded data removed]",
      "text/plain": [
       "<Figure size 640x480 with 1 Axes>"
      ]
     },
     "metadata": {},
     "output_type": "display_data"
    }
   ],
   "source": [
    "# dff = df[[\"Family_History\",\"Allergies\",\"Physical_Activity_Level\"]]\n",
    "sns.barplot(x=df[\"Family_History\"],y=df[\"Has_Asthma\"],data=df ,palette='mako')\n",
    "# plt.bar(dff[\"Family_History\"],df[\"Has_Asthma\"])\n",
    "# plt.xlabel(\"ff\")\n",
    "# plt.ylabel(\"Has_Asthma\")\n",
    "# plt.pie(df[\"Has_Asthma\"],labels=df[\"ff\"],autopct='%1.f%%')\n",
    "# plt.title('Monthly Sales')"
   ]
  },
  {
   "cell_type": "code",
   "execution_count": 25,
   "id": "f74ed337",
   "metadata": {},
   "outputs": [
    {
     "data": {
      "text/plain": [
       "<Axes: xlabel='Age', ylabel='count'>"
      ]
     },
     "execution_count": 25,
     "metadata": {},
     "output_type": "execute_result"
    },
    {
     "data": {
      "image/png": "[encoded data removed]",
      "text/plain": [
       "<Figure size 640x480 with 1 Axes>"
      ]
     },
     "metadata": {},
     "output_type": "display_data"
    }
   ],
   "source": [
    "sns.countplot(x=\"Age\",data=df)\n"
   ]
  },
  {
   "cell_type": "code",
   "execution_count": 26,
   "id": "89562307",
   "metadata": {},
   "outputs": [
    {
     "name": "stderr",
     "output_type": "stream",
     "text": [
      "C:\\Users\\As\\AppData\\Local\\Temp\\ipykernel_8424\\475153094.py:1: FutureWarning: \n",
      "\n",
      "Passing `palette` without assigning `hue` is deprecated and will be removed in v0.14.0. Assign the `x` variable to `hue` and set `legend=False` for the same effect.\n",
      "\n",
      "  sns.barplot(x=df[\"Gender\"] ,y=df[\"Has_Asthma\"],data=df, palette='mako')\n"
     ]
    },
    {
     "data": {
      "text/plain": [
       "<Axes: xlabel='Gender', ylabel='Has_Asthma'>"
      ]
     },
     "execution_count": 26,
     "metadata": {},
     "output_type": "execute_result"
    },
    {
     "data": {
      "image/png": "[encoded data removed]",
      "text/plain": [
       "<Figure size 640x480 with 1 Axes>"
      ]
     },
     "metadata": {},
     "output_type": "display_data"
    }
   ],
   "source": [
    "sns.barplot(x=df[\"Gender\"] ,y=df[\"Has_Asthma\"],data=df, palette='mako')\n"
   ]
  },
  {
   "cell_type": "code",
   "execution_count": 27,
   "id": "d24d1764",
   "metadata": {},
   "outputs": [
    {
     "data": {
      "text/plain": [
       "<Axes: xlabel='Age', ylabel='Has_Asthma'>"
      ]
     },
     "execution_count": 27,
     "metadata": {},
     "output_type": "execute_result"
    },
    {
     "data": {
      "image/png": "[encoded data removed]",
      "text/plain": [
       "<Figure size 640x480 with 1 Axes>"
      ]
     },
     "metadata": {},
     "output_type": "display_data"
    }
   ],
   "source": [
    "sns.lineplot(x=df[\"Age\"], y=df[\"Has_Asthma\"], data=df, marker='o')"
   ]
  },
  {
   "cell_type": "code",
   "execution_count": 28,
   "id": "0747343c",
   "metadata": {},
   "outputs": [
    {
     "data": {
      "text/plain": [
       "0       Sedentary\n",
       "1        Moderate\n",
       "2        Moderate\n",
       "3       Sedentary\n",
       "4          Active\n",
       "          ...    \n",
       "1494     Moderate\n",
       "1495    Sedentary\n",
       "1496    Sedentary\n",
       "1497    Sedentary\n",
       "1498     Moderate\n",
       "Name: Physical_Activity_Level, Length: 1499, dtype: object"
      ]
     },
     "execution_count": 28,
     "metadata": {},
     "output_type": "execute_result"
    }
   ],
   "source": [
    "df[\"Physical_Activity_Level\"]"
   ]
  },
  {
   "cell_type": "code",
   "execution_count": 29,
   "id": "254e3ebd",
   "metadata": {},
   "outputs": [
    {
     "data": {
      "text/plain": [
       "<Axes: xlabel='Physical_Activity_Level', ylabel='Gender'>"
      ]
     },
     "execution_count": 29,
     "metadata": {},
     "output_type": "execute_result"
    },
    {
     "data": {
      "image/png": "[encoded data removed]",
      "text/plain": [
       "<Figure size 640x480 with 1 Axes>"
      ]
     },
     "metadata": {},
     "output_type": "display_data"
    }
   ],
   "source": [
    "\n",
    "sns.scatterplot(x='Physical_Activity_Level', y='Gender', hue='Has_Asthma', data=df)\n",
    "\n"
   ]
  },
  {
   "cell_type": "code",
   "execution_count": 30,
   "id": "fce96aef",
   "metadata": {},
   "outputs": [
    {
     "data": {
      "text/plain": [
       "<Axes: xlabel='Physical_Activity_Level', ylabel='Has_Asthma'>"
      ]
     },
     "execution_count": 30,
     "metadata": {},
     "output_type": "execute_result"
    },
    {
     "data": {
      "image/png": "[encoded data removed]",
      "text/plain": [
       "<Figure size 640x480 with 1 Axes>"
      ]
     },
     "metadata": {},
     "output_type": "display_data"
    }
   ],
   "source": [
    "sns.lineplot(x=df[\"Physical_Activity_Level\"],y=df[\"Has_Asthma\"],color=\"red\")"
   ]
  },
  {
   "cell_type": "code",
   "execution_count": 31,
   "id": "6ea10bbe",
   "metadata": {},
   "outputs": [
    {
     "name": "stderr",
     "output_type": "stream",
     "text": [
      "C:\\Users\\As\\AppData\\Local\\Temp\\ipykernel_8424\\84411312.py:1: FutureWarning: \n",
      "\n",
      "Passing `palette` without assigning `hue` is deprecated and will be removed in v0.14.0. Assign the `y` variable to `hue` and set `legend=False` for the same effect.\n",
      "\n",
      "  sns.barplot(x=df[\"Has_Asthma\"],y=df[\"Allergies\"],palette='mako')\n"
     ]
    },
    {
     "data": {
      "text/plain": [
       "<Axes: xlabel='Has_Asthma', ylabel='Allergies'>"
      ]
     },
     "execution_count": 31,
     "metadata": {},
     "output_type": "execute_result"
    },
    {
     "data": {
      "image/png": "[encoded data removed]",
      "text/plain": [
       "<Figure size 640x480 with 1 Axes>"
      ]
     },
     "metadata": {},
     "output_type": "display_data"
    }
   ],
   "source": [
    "sns.barplot(x=df[\"Has_Asthma\"],y=df[\"Allergies\"],palette='mako')"
   ]
  },
  {
   "cell_type": "code",
   "execution_count": 32,
   "id": "645e5303",
   "metadata": {},
   "outputs": [
    {
     "data": {
      "text/plain": [
       "<Axes: >"
      ]
     },
     "execution_count": 32,
     "metadata": {},
     "output_type": "execute_result"
    },
    {
     "data": {
      "image/png": "[encoded data removed]",
      "text/plain": [
       "<Figure size 640x480 with 2 Axes>"
      ]
     },
     "metadata": {},
     "output_type": "display_data"
    }
   ],
   "source": [
    "\n",
    "\n",
    "le = LabelEncoder()\n",
    "df['Gender'] = le.fit_transform(df['Gender'])\n",
    "df['Smoking_Status'] = le.fit_transform(df['Smoking_Status'])\n",
    "df['Occupation_Type'] = le.fit_transform(df['Occupation_Type'])\n",
    "df['Physical_Activity_Level'] = le.fit_transform(df['Physical_Activity_Level'])\n",
    "df['Air_Pollution_Level'] = le.fit_transform(df['Air_Pollution_Level'])\n",
    "df['Allergies'] = le.fit_transform(df['Allergies'])\n",
    "sns.heatmap(df.corr(), cmap='coolwarm')\n"
   ]
  },
  {
   "cell_type": "code",
   "execution_count": 36,
   "id": "81ab7491",
   "metadata": {},
   "outputs": [
    {
     "data": {
      "text/plain": [
       "Age                        0.009921\n",
       "Gender                     0.021801\n",
       "BMI                        0.104424\n",
       "Smoking_Status            -0.268993\n",
       "Family_History             0.408137\n",
       "Allergies                  0.117206\n",
       "Air_Pollution_Level       -0.325256\n",
       "Physical_Activity_Level    0.262004\n",
       "Occupation_Type           -0.002225\n",
       "Medication_Adherence      -0.009494\n",
       "Number_of_ER_Visits       -0.004162\n",
       "Peak_Expiratory_Flow       0.003832\n",
       "FeNO_Level                -0.000463\n",
       "Has_Asthma                 1.000000\n",
       "Name: Has_Asthma, dtype: float64"
      ]
     },
     "execution_count": 36,
     "metadata": {},
     "output_type": "execute_result"
    }
   ],
   "source": [
    "df.corr(numeric_only=True)[\"Has_Asthma\"]\n"
   ]
  },
  {
   "cell_type": "code",
   "execution_count": null,
   "id": "7ef23799",
   "metadata": {},
   "outputs": [],
   "source": []
  }
 ],
 "metadata": {
  "kernelspec": {
   "display_name": "task01",
   "language": "python",
   "name": "python3"
  },
  "language_info": {
   "codemirror_mode": {
    "name": "ipython",
    "version": 3
   },
   "file_extension": ".py",
   "mimetype": "text/x-python",
   "name": "python",
   "nbconvert_exporter": "python",
   "pygments_lexer": "ipython3",
   "version": "3.10.0"
  }
 },
 "nbformat": 4,
 "nbformat_minor": 5
}
